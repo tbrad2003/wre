{
 "cells": [
  {
   "cell_type": "markdown",
   "metadata": {},
   "source": [
    "# Python Tutorial\n",
    "\n",
    "Before starting, learn basic commands of the IDE you are using. \n",
    "\n",
    "If you are using Google Colab: \n",
    "- \"esc\" to unhighlight cell and be in command mode; \"enter\" to go into the cell and type\n",
    "- use \"a\" to create new cell above, \"b\" to create new cell below\n",
    "- use \"z\" to undo\n",
    "- use \"shift\" and \"enter\" at the same time to run cell\n",
    "\n",
    "If you are using Jupyter Notebook, here are some additional commands: \n",
    "\n",
    "- type \"d\" very fast twice to delete cell\n",
    "- type \"m\" to change cell to Markdown\n",
    "- type \"y\" to change cell to Code"
   ]
  },
  {
   "cell_type": "markdown",
   "metadata": {},
   "source": [
    "## Why Python? \n",
    "- clean and simple syntax, very much like English, very easy to learn\n",
    "- free of cost and open source, unlike MATLAB\n",
    "- large library support to do almost everything\n",
    "\n",
    "## Recommended Offline Python IDEs (Integrated Developement Evnironment Software)\n",
    "- Visual Studio Code\n",
    "- Jupyter Notebook\n",
    "- Sublime Text\n",
    "- PyCharm\n",
    "- Atom, Spyder, VIM, etc.\n",
    "\n",
    "## Online Learning Resources\n",
    "- [W3Schools](https://www.w3schools.com/python/)\n",
    "- [Real Python](https://realpython.com)"
   ]
  },
  {
   "cell_type": "markdown",
   "metadata": {},
   "source": [
    "## Part I\n",
    "### Numbers, Variables, Comparisons and Logic\n",
    "\n",
    "#### Type of Numbers\n",
    "- integers\n",
    "    For clarity, it is possible to separate any pair of digits by an underscore character \"_\". Function int() converts input to integer. \n",
    "- float\n",
    "    Any single number containing a period \".\" is considered by Python to specify a floating-point number. As with integers, pairs of digits may be separated by an underscore. Numbers smaller than 0.0001 are displayed in scientific notation. Function float() converts input to float. \n",
    "- complex\n",
    "    A complex number may be specified by either adding a real number to an imaginary one (denoted by the j suffix), as in 2.3+1.2j or by separating the real and imaginary parts in a call to function complex, as in complex(2.3, 1.2). "
   ]
  },
  {
   "cell_type": "code",
   "execution_count": null,
   "metadata": {},
   "outputs": [],
   "source": []
  },
  {
   "cell_type": "markdown",
   "metadata": {},
   "source": [
    "#### Basic Arithmetic\n",
    "- \"+\" Addition\n",
    "- \"-\" Subtraction\n",
    "- \"*\" Multiplication\n",
    "- \"/\" Floating-point division\n",
    "- \"//\" Integer division\n",
    "- \"%\" Modulus (remainder)\n",
    "- \"**\" Exponentiation\n",
    "\n",
    "Be aware of operator precedence rules. For complex problems, use parantheses to make sure. "
   ]
  },
  {
   "cell_type": "code",
   "execution_count": null,
   "metadata": {},
   "outputs": [],
   "source": []
  },
  {
   "cell_type": "markdown",
   "metadata": {},
   "source": [
    "#### The build-in Math library\n",
    "- import math\n",
    "- from math import * \n",
    "The second one is not recommended. \n",
    "\n",
    "Some functions provided the math module\n",
    "- math.pow(x,y)\n",
    "- math.sqrt(x)\n",
    "- math.exp(x)\n",
    "- math.log(x,b)\n",
    "- math.log10(x)\n",
    "- math.sin(x)\n",
    "- math.atanh(x)\n",
    "- math.hypot(x,y), calculates the Euclindean norm $\\sqrt{x^2+y^2}$\n",
    "- math.factorial(x)\n",
    "- math.degrees(x)\n",
    "- math.radians(x)\n",
    "- math.isclose(a,b, rel_tol=x)\n"
   ]
  },
  {
   "cell_type": "code",
   "execution_count": null,
   "metadata": {},
   "outputs": [],
   "source": []
  },
  {
   "cell_type": "markdown",
   "metadata": {},
   "source": [
    "***Practice Problem #1***\n",
    "\n",
    "The Manning equation is expressed as $V=\\frac{1}{n}R^{2/3}S_0^{1/2}$. Given n=0.015, R=3000, $S_0$=0.0004, determine the flow velocity $V$"
   ]
  },
  {
   "cell_type": "code",
   "execution_count": null,
   "metadata": {},
   "outputs": [],
   "source": []
  },
  {
   "cell_type": "markdown",
   "metadata": {},
   "source": [
    "#### Comparisons and Logic\n",
    "- \"==\" Equal to\n",
    "- \"!=\" Not equal to\n",
    "- \">\" Greater than\n",
    "- \"<\" Less than\n",
    "- \">=\" Greater than or equal to\n",
    "- \"<=\" Less than or equal to\n",
    "\n",
    "Care should be taken in comparing float numbers for equality. Since they are not stored exactly, calculations involving them frequently lead to loss of precision and this can give unexpected results tothe unwary. For example, \"a=0.01\", \"b=0.1**2\", \"a==b\" returns \"false\". "
   ]
  },
  {
   "cell_type": "code",
   "execution_count": null,
   "metadata": {},
   "outputs": [],
   "source": []
  },
  {
   "cell_type": "code",
   "execution_count": null,
   "metadata": {},
   "outputs": [],
   "source": []
  },
  {
   "cell_type": "markdown",
   "metadata": {},
   "source": [
    "\n",
    "Logic operators\n",
    "- and\n",
    "- or\n",
    "- not\n",
    "- xor\n",
    "\n",
    "|P|Q|P and Q|\n",
    "|-|-|-|\n",
    "|True|False|False|\n",
    "|False|True|False|\n",
    "|True|True|True|\n",
    "|False|False|False|\n",
    "\n",
    "For \"or\" operator, if either of the bits is true, the output is true. Otherwise, the output is false. \n",
    "\n",
    "|P|Q|P or Q|\n",
    "|-|-|-|\n",
    "|True|False|True|\n",
    "|False|True|True|\n",
    "|True|True|True|\n",
    "|False|False|False|\n",
    "\n",
    "\"xor\" is known as \"exclusive or\". If both bits are the same, the output is False (0). Otherwise, the output is True (1). \n",
    "\n",
    "|P|Q|P xor Q|\n",
    "|-|-|-|\n",
    "|True|False|True|\n",
    "|False|True|True|\n",
    "|True|True|False|\n",
    "|False|False|True|\n",
    "\n",
    "bool(-1) returns True. bool(0.0) returns False. \n",
    "\n",
    "Python's special value: None - specifial type: NoneType"
   ]
  },
  {
   "cell_type": "code",
   "execution_count": null,
   "metadata": {},
   "outputs": [],
   "source": []
  },
  {
   "cell_type": "markdown",
   "metadata": {},
   "source": [
    "#### Immutability and Identity\n",
    "Immutable objects (integers, booleans, etc.) do not change after they are created, though a variable name maybe reassigned to refer to a different object from the one it was originally assigned to. "
   ]
  },
  {
   "cell_type": "code",
   "execution_count": null,
   "metadata": {},
   "outputs": [],
   "source": []
  },
  {
   "cell_type": "markdown",
   "metadata": {},
   "source": [
    "a=256\n",
    "b=256\n",
    "\"a is b\" returns True\n",
    "However, a=257, b=257, \"a is b\" return False. \n",
    "\n",
    "This might come as a surprise. This is because Python keeps a cache of commonly used, small integer objects (on my system, the numbers -5 to 256). To improve performance, the assignment a=256 attaches the variable name to the existing integer object without having to allocate new memory for it. "
   ]
  },
  {
   "cell_type": "markdown",
   "metadata": {},
   "source": [
    "***Practice Problem #2***\n",
    "\n",
    "The World Geodetic System is a set of international standards for describing the shape of the Earth. In the latest WGS-84 revision, the Earth's geoid is approximated to a reference ellipsoid that takes the form of an oblate spheroid with semi-major and semi-minor axes a=6378137.0 and c=6356752.314245 m, respectively. Use the formula for the surface area of an oblate spheroid, \n",
    "$$ S_{obl}=2\\pi a^2\\left(1+\\frac{1-e^2}{e}\\text{atanh}(e)\\right) $$\n",
    "where $e^2=1-\\frac{c^2}{a^2}$\n",
    "to calculate the surface area of this reference allipsoid and compare it with the surface area of the Earth assumed to be a sphere with radius 6371 km. "
   ]
  },
  {
   "cell_type": "code",
   "execution_count": null,
   "metadata": {},
   "outputs": [],
   "source": []
  },
  {
   "cell_type": "markdown",
   "metadata": {},
   "source": [
    "***Practice Problem #3***\n",
    "\n",
    "Some languages provide a sign(a) function which returns -1 if its argument, a, is negative and 1 otherwise. Python does not provide such a function, but the math module does include a function math.copysign(x,y), which returns the absolute value of x with the sign of y. How would you use this function in the same way as the missing sign(a) function? "
   ]
  },
  {
   "cell_type": "code",
   "execution_count": null,
   "metadata": {},
   "outputs": [],
   "source": []
  },
  {
   "cell_type": "markdown",
   "metadata": {},
   "source": [
    "#### String\n",
    "A python string object is some constant text enclosed in either single or double quotes. Str() is the build-in function to convert the object passed as its argument to a string. An empty string is defined as s='' or s=\"\". \n",
    "\n",
    "F-string provides a way to embed variables inside a string. It starts from f followed by ''. The variable names need to be in {}. \n",
    "\n",
    "len() is a build-in function to find the number of characters a string has. \n",
    "\n",
    "Strings are immutable. It is not possible to change a string by assignment. For example, the following is an error. \n",
    "\n",
    "s = \"water\"\n",
    "\n",
    "s[0]='W'\n"
   ]
  },
  {
   "cell_type": "code",
   "execution_count": null,
   "metadata": {},
   "outputs": [],
   "source": []
  },
  {
   "cell_type": "markdown",
   "metadata": {},
   "source": [
    "## Part II\n",
    "### List\n",
    "List is an ordered, mutable array of objects. A list is constructed by specifying the objects, separated by commas, between square brackets []. \n",
    "\n",
    "An item can be retrieved from the list by indexing it. Remember, Python indexes start from 0. list[0] returns the first object while list[-1] returns the last object. \n",
    "\n",
    "Common list methods\n",
    "- append(element), append element to the end of the list\n",
    "- extend(list2), extend the list with the elements from list2\n",
    "- index(element), return the lowest index of the list containing element\n",
    "- insert(index, element), insert element at index\n",
    "- pop(), remove and return the list\n",
    "- reverse(), reverse the list in place\n",
    "- remove(element), remove the first occurrence of element from the list\n",
    "- sort(), sort the list in place\n",
    "- copy(), return a copy of the list\n",
    "- count(element), return the number of elements equal to the element in the list\n",
    "\n",
    "sort() and sorted() order the items in ascending order. Set the optional argument \"reverse=True\" to return the items in descending order. \n"
   ]
  },
  {
   "cell_type": "code",
   "execution_count": null,
   "metadata": {},
   "outputs": [],
   "source": [
    "\n"
   ]
  },
  {
   "cell_type": "markdown",
   "metadata": {},
   "source": [
    "### Tuples\n",
    "A tuple is immutable. An empty tuple is created with empty parantheses t0={}. "
   ]
  },
  {
   "cell_type": "code",
   "execution_count": null,
   "metadata": {},
   "outputs": [],
   "source": []
  },
  {
   "cell_type": "markdown",
   "metadata": {},
   "source": [
    "### Dictionary\n",
    "A dictionary stores a collection of ***unordered*** items. "
   ]
  },
  {
   "cell_type": "code",
   "execution_count": null,
   "metadata": {},
   "outputs": [],
   "source": []
  },
  {
   "cell_type": "markdown",
   "metadata": {},
   "source": [
    "### Set\n",
    "A set is a collection which is unordered, unchangeable, and unindexed. ***It does not allow duplicate values***. Note: \"unchangeable\" means you cannot change its items after the set has been created, but you can remove items and add new items. Sets are written with curly braces. \n"
   ]
  },
  {
   "cell_type": "code",
   "execution_count": null,
   "metadata": {},
   "outputs": [],
   "source": []
  },
  {
   "cell_type": "markdown",
   "metadata": {},
   "source": [
    "## Part III\n",
    "### Loops\n",
    "\n",
    "#### ***for*** loop\n",
    "for item in iterable object:\n",
    "\n",
    "This yields each element of the iterable object in turn to be processed by the subsequent block of code. ***Note: Four spaces are recommended to indent code.***\n",
    "\n",
    "#### ***while*** loop\n",
    "Whereas a ***for*** loop is established for a fixed number of iterations, statements within a ***while*** loop execute only and as long as some conditions hold. \n",
    "\n",
    "\"while True\" and \"while 1\" are equivalent. It initiates an infinite loop unless some conditions do not hold or it meets ***break*** command in the control flow. "
   ]
  },
  {
   "cell_type": "code",
   "execution_count": null,
   "metadata": {},
   "outputs": [],
   "source": []
  },
  {
   "cell_type": "markdown",
   "metadata": {},
   "source": [
    "***Practice Problem #4***\n",
    "\n",
    "The Fibonacci sequence is the sequence of numbers generated by applying the rules: \n",
    "$$ a_1=a_2=1, ~~~a_i=a_{i-1}+a_{i-2} $$\n",
    "That is, the 'i'th Fibonacci number is the sum of the previous two: 1, 1, 2, 3, 5, 8, 13, ... Generate the first 100 Fibonacci series numbers into a list. "
   ]
  },
  {
   "cell_type": "code",
   "execution_count": null,
   "metadata": {},
   "outputs": [],
   "source": []
  },
  {
   "cell_type": "markdown",
   "metadata": {},
   "source": [
    "***Practice Problem #5***\n",
    "\n",
    "Use \"for\" loop to calculate $\\pi$ from the first 20 terms of the Madhava series: \n",
    "$$ \\pi=\\sqrt{12}\\left(1-\\frac{1}{3\\cdot3}+\\frac{1}{5\\cdot3^2}-\\frac{1}{7\\cdot3^3}+...\\right) $$"
   ]
  },
  {
   "cell_type": "code",
   "execution_count": null,
   "metadata": {},
   "outputs": [],
   "source": []
  },
  {
   "cell_type": "markdown",
   "metadata": {},
   "source": [
    "### Control Flow\n",
    "- if...elif...else\n",
    "- break\n",
    "- continue\n",
    "- pass"
   ]
  },
  {
   "cell_type": "code",
   "execution_count": null,
   "metadata": {},
   "outputs": [],
   "source": []
  },
  {
   "cell_type": "markdown",
   "metadata": {},
   "source": [
    "***Practice Problem #6***\n",
    "\n",
    "The iterative weak acid approximation determines the hydrogen ion concentration, $[H^+]$, of an acid solution from the acid dissociation constant, $K_a$, and the acid concentration, $c$, by successive application of the formula\n",
    "$$ [H^+]_{n-1}=\\sqrt{K_a(c-[H^+]_n)} $$\n",
    "starting with $[H^+]_0=0$. The iterations are continued until $[H^+]$ changes by less than some predetermined, small tolerance value. \n",
    "\n",
    "Use this method to determine the hydrogen ion concentration, and hence the pH ($=-log_{10}[H^+]$) of a $c=0.01~M$ solution of acetic acid ($K_a=1.78\\times10^{-5}$). Use the tolerance TOL=1.e-10."
   ]
  },
  {
   "cell_type": "code",
   "execution_count": null,
   "metadata": {},
   "outputs": [],
   "source": []
  },
  {
   "cell_type": "markdown",
   "metadata": {},
   "source": [
    "## Part IV\n",
    "### Functions\n",
    "The ***def*** statement defines a function, gives it a name and lists the argument (if any) that the function expects to receive when called. "
   ]
  },
  {
   "cell_type": "code",
   "execution_count": null,
   "metadata": {},
   "outputs": [],
   "source": []
  },
  {
   "cell_type": "markdown",
   "metadata": {},
   "source": [
    "A function can define and use its own variables. When it does so, those variables are ***local*** to that function: they are not available outside the function. Conversely, variables assigned outside all function defs are ***global*** and are available everywhere within the program file. \n",
    "\n",
    "If you really want to use a locally defined variable outside, use the keyword ***global*** within the local function to define it. Note: this can lead to confusing code in longer programs, and thus is not recommended. \n",
    "\n",
    "#### Passing Arguments to Functions"
   ]
  },
  {
   "cell_type": "code",
   "execution_count": null,
   "metadata": {},
   "outputs": [],
   "source": []
  },
  {
   "cell_type": "markdown",
   "metadata": {},
   "source": [
    "### lambda functions\n",
    "A lambda function in Python is a type of simple anonymous function. The executable body of a lambda function must be an expression and not a statement; that is, it may not contain, for example, loop blocks, conditionals or print statements. It differs from the way a regular function def would be used. "
   ]
  },
  {
   "cell_type": "code",
   "execution_count": null,
   "metadata": {},
   "outputs": [],
   "source": []
  },
  {
   "cell_type": "markdown",
   "metadata": {},
   "source": [
    "***Practice Problem #7***\n",
    "\n",
    "The range of a water beam projected at an angle $\\alpha$ to the sky and speed $v$ on flat terrain is\n",
    "$$ R=\\frac{v^2\\sin2\\alpha}{g} $$\n",
    "where $g$ is the acceleration due to gravity, which may be taken to be 9.81 $m/s^2$. The maximum height attained by the water beam is given by\n",
    "$$ H=\\frac{v^2\\sin^2\\alpha}{2g} $$\n",
    "Write a function to calculate and return the range kand maximum height of a water beam, taking $\\alpha$ and $v$ as arguments. Test it with the values $v=10~m/s$ and $\\alpha=30\\degree$. "
   ]
  },
  {
   "cell_type": "code",
   "execution_count": null,
   "metadata": {},
   "outputs": [],
   "source": []
  },
  {
   "cell_type": "markdown",
   "metadata": {},
   "source": [
    "## Part V\n",
    "### The ***random*** module\n",
    "For simulations, modeling, and some numerical algorithms, it is often necessary to generate random numbers from some distribution. \n",
    "\n",
    "The basic random-number method is random.random. It generates a random number selected from the uniform distribution in the semi-open interval [0,1) - that is, including 0 but not including 1. "
   ]
  },
  {
   "cell_type": "code",
   "execution_count": null,
   "metadata": {},
   "outputs": [],
   "source": []
  },
  {
   "cell_type": "markdown",
   "metadata": {},
   "source": [
    "***Practice Problem #8\n",
    "\n",
    "Create a list containing 100 numbers from 201 to 300. Randomly select 70 numbers from the list and store them in list 1 and store the remaining 30 numbers in list 2. "
   ]
  },
  {
   "cell_type": "code",
   "execution_count": null,
   "metadata": {},
   "outputs": [],
   "source": []
  },
  {
   "cell_type": "markdown",
   "metadata": {},
   "source": [
    "### The ***datetime*** module"
   ]
  },
  {
   "cell_type": "code",
   "execution_count": null,
   "metadata": {},
   "outputs": [],
   "source": []
  },
  {
   "cell_type": "code",
   "execution_count": null,
   "metadata": {},
   "outputs": [],
   "source": []
  }
 ],
 "metadata": {
  "interpreter": {
   "hash": "5192a91fef35d7a0cb0b89c889d70296233ca811b238617201211c8ee3cce111"
  },
  "kernelspec": {
   "display_name": "Python 3.8.8 64-bit ('base': conda)",
   "language": "python",
   "name": "python3"
  },
  "language_info": {
   "codemirror_mode": {
    "name": "ipython",
    "version": 3
   },
   "file_extension": ".py",
   "mimetype": "text/x-python",
   "name": "python",
   "nbconvert_exporter": "python",
   "pygments_lexer": "ipython3",
   "version": "3.8.8"
  },
  "orig_nbformat": 4
 },
 "nbformat": 4,
 "nbformat_minor": 2
}
