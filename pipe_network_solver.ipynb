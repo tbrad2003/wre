{
 "cells": [
  {
   "cell_type": "markdown",
   "metadata": {},
   "source": [
    "# Network Simulation: Hardy Cross Method"
   ]
  },
  {
   "cell_type": "markdown",
   "metadata": {},
   "source": [
    "## Definitions\n",
    "- $N_j$, the number of junction nodes: nj\n",
    "- $N_p$, the number of pipes: np\n",
    "- $N_l$, the number of independent loops: nl\n",
    "- $h$, an array storing headlosses of pipes: HL\n",
    "- $H$, an array storing nodal heads: H\n",
    "- $i$, the row number of a node: i\n",
    "- $j$, the column number of a node: j\n",
    "- $r$, total rows of the network: r\n",
    "- $c$, total columns of the network: c\n",
    "- $\n",
    "\n",
    "Let's start from the simpliest network: a rectangle divided by one vertical pipe in the middle to make two squares side by side, i.e. two independent loops. This 2 rows and 3 columns setup makes the network have 6 (rxc) nodes, which can be denoted by a 2x3 array N. The network has 7 pipes, which can be divided into 4 (rx(c-1)) horizontal pipes and 3 ((r-1)xc) vertical pipes, which can be denoted by a 2x2 array PH and a 1x3 array PV, respectively. These numbers can be generarized if r and c are given. \n"
   ]
  },
  {
   "cell_type": "code",
   "execution_count": 1,
   "metadata": {},
   "outputs": [],
   "source": [
    "import numpy as np\n",
    "\n",
    "r = 2 # total rows of the network\n",
    "c = 3 # total columns of the network\n",
    "\n",
    "# Create arrays\n",
    "NH = np.zeros((r,c)) # Node Head array\n",
    "NQ = np.zeros((r,c)) # Node flowrate array: negative if there is discharged water from the network at the node; positive if there is charged water into the network at the node; zero if just water transportation at the node. \n",
    "\n",
    "HPL = np.ones((r,c-1)) # horizontal pipe length array\n",
    "HPD = np.ones((r,c-1)) # horizontal pipe diameter array\n",
    "HPQ = np.zeros((r,c-1)) # horizontal pipe flowrate array: positive value if to the right\n",
    "HPK = np.ones((r,c-1)) # horizontal pipe coefficient array\n",
    "HPH = np.ones((r,c-1)) # horizontal pipe headloss array\n",
    "\n",
    "VPL = np.ones((r-1,c)) # vertical pipe length array\n",
    "VPD = np.ones((r-1,c)) # vertical pipe diameter array: positive value if downward\n",
    "VPQ = np.zeros((r-1,c)) # vertical pipe flowrate array\n",
    "VPK = np.zeros((r-1,c)) # vertical pipe coefficient array\n",
    "VPH = np.zeros((r-1,c)) # vertical pipe headloss array\n",
    "\n",
    "IP = np.ones((r-1,c-1)) # independent pipe loop array storing deltaQ, DQ: positive if counterclockwise"
   ]
  },
  {
   "cell_type": "code",
   "execution_count": 2,
   "metadata": {},
   "outputs": [],
   "source": [
    "# Assign values to arrays based on the given information of the problem\n",
    "HPL[:]=5000\n",
    "VPL[:]=4000\n",
    "HPD[:]=[24,12],[18,18]\n",
    "VPD[:]=[18,18,18]\n",
    "NQ[:]=[10,0,-2],[0,-4,-4]\n",
    "\n",
    "# constant\n",
    "f = 0.02 # Darcy-Weisbach friction factor\n",
    "\n",
    "# Calculate K values and update the values in the HPK and VPK arrays\n",
    "#HPK=8*f*HPL/(3.14**2*9.81*(HPD/12)**5) I will go with the simplified equation in the textbook as follows\n",
    "HPK = HPL/(1959*(HPD/12)**5)\n",
    "VPK = VPL/(1959*(VPD/12)**5)\n"
   ]
  },
  {
   "cell_type": "code",
   "execution_count": 4,
   "metadata": {},
   "outputs": [
    {
     "data": {
      "text/plain": [
       "array([[6.2, 2.2],\n",
       "       [3.8, 3.8]])"
      ]
     },
     "execution_count": 4,
     "metadata": {},
     "output_type": "execute_result"
    }
   ],
   "source": [
    "# Manually initialize the flow rate in each pipe, i.e. change values of HPQ and VPQ arrays\n",
    "HPQ[:]=[6.2,2.2],[3.8,3.8]\n",
    "VPQ[:]=[3.8,4.0,0.2]\n",
    "HPQ"
   ]
  },
  {
   "cell_type": "code",
   "execution_count": 5,
   "metadata": {},
   "outputs": [
    {
     "name": "stdout",
     "output_type": "stream",
     "text": [
      "Loop #  1\n",
      "[[-0.17678332  0.19998429]]\n",
      "[[6.37678332 2.00001571]\n",
      " [3.62321668 3.99998429]]\n",
      "[[3.62321668e+00 4.37676761e+00 1.57125648e-05]]\n",
      "Loop #  2\n",
      "[[ 0.05827725 -0.0209192 ]]\n",
      "[[6.31850607 2.02093491]\n",
      " [3.68149393 3.97906509]]\n",
      "[[3.68149393 4.29757115 0.02093491]]\n",
      "Loop #  3\n",
      "[[-0.00634647  0.00891829]]\n",
      "[[6.32485254 2.01201662]\n",
      " [3.67514746 3.98798338]]\n",
      "[[3.67514746 4.31283592 0.01201662]]\n",
      "Loop #  4\n",
      "[[ 0.00265625 -0.00095125]]\n",
      "[[6.32219629 2.01296787]\n",
      " [3.67780371 3.98703213]]\n",
      "[[3.67780371 4.30922842 0.01296787]]\n"
     ]
    }
   ],
   "source": [
    "m = 1\n",
    "while True:\n",
    "    if np.abs(IP).sum()>0.01:\n",
    "        print('Loop # ', m)\n",
    "        for i in np.arange(r-1):\n",
    "            for j in np.arange(c-1):\n",
    "                #update IP values with delta Q calculations:\n",
    "                IP[i,j]=(-1/2)*(-HPK[i,j]*HPQ[i,j]**2+HPK[i+1,j]*HPQ[i+1,j]**2+VPK[i,j]*VPQ[i,j]**2-VPK[i,j+1]*VPQ[i,j+1]**2)/(HPK[i,j]*np.abs(HPQ[i,j])+HPK[i+1,j]*np.abs(HPQ[i+1,j])+VPK[i,j]*np.abs(VPQ[i,j])+VPK[i,j+1]*np.abs(VPQ[i,j+1]))\n",
    "        print(IP)\n",
    "        # Adjust horizontal pipe flows based on the delta Q for each loop.\n",
    "        for j in np.arange(c-1):\n",
    "            k=0\n",
    "            for i in np.arange(r):\n",
    "                if k==0:\n",
    "                    HPQ[i,j]=HPQ[i,j]-IP[0,j]\n",
    "                else:\n",
    "                    HPQ[i,j]=HPQ[i,j]+IP[0,j]\n",
    "                k+=1\n",
    "                k=k%2\n",
    "        print(HPQ)\n",
    "        # Adjust vertical pipe flows. \n",
    "        for i in np.arange(r-1):\n",
    "            for j in np.arange(0,c,3):\n",
    "                VPQ[i,j]=VPQ[i,j]+IP[0,j]\n",
    "                VPQ[i,j+1]=VPQ[i,j+1]-IP[0,j]+IP[0,j+1]\n",
    "                VPQ[i,j+2]=VPQ[i,j+2]-IP[0,j+1]\n",
    "        print(VPQ)\n",
    "        m+=1\n",
    "    else:\n",
    "        break"
   ]
  },
  {
   "cell_type": "code",
   "execution_count": null,
   "metadata": {},
   "outputs": [],
   "source": []
  }
 ],
 "metadata": {
  "interpreter": {
   "hash": "5192a91fef35d7a0cb0b89c889d70296233ca811b238617201211c8ee3cce111"
  },
  "kernelspec": {
   "display_name": "Python 3.8.8 64-bit ('base': conda)",
   "language": "python",
   "name": "python3"
  },
  "language_info": {
   "codemirror_mode": {
    "name": "ipython",
    "version": 3
   },
   "file_extension": ".py",
   "mimetype": "text/x-python",
   "name": "python",
   "nbconvert_exporter": "python",
   "pygments_lexer": "ipython3",
   "version": "3.8.8"
  },
  "orig_nbformat": 4
 },
 "nbformat": 4,
 "nbformat_minor": 2
}
