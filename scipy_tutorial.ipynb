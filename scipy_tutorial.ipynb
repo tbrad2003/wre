{
  "cells": [
    {
      "cell_type": "code",
      "execution_count": 4,
      "metadata": {
        "id": "CDWvZ_xTjt85"
      },
      "outputs": [],
      "source": [
        "import numpy as np\n",
        "import matplotlib.pyplot as plt\n",
        "import scipy as sp"
      ]
    },
    {
      "cell_type": "markdown",
      "metadata": {
        "id": "IESAWtlNjt86"
      },
      "source": [
        "# Basic"
      ]
    },
    {
      "cell_type": "markdown",
      "metadata": {
        "id": "WDD-ahuGjt86"
      },
      "source": [
        "## Optimization"
      ]
    },
    {
      "cell_type": "code",
      "execution_count": 5,
      "metadata": {
        "id": "MIVZECrDjt87"
      },
      "outputs": [],
      "source": [
        "from scipy.optimize import minimize"
      ]
    },
    {
      "cell_type": "markdown",
      "metadata": {
        "id": "7YhYtZnIjt87"
      },
      "source": [
        "Minimize $f(x) = (x-3)^2$"
      ]
    },
    {
      "cell_type": "code",
      "execution_count": 6,
      "metadata": {
        "id": "4DRj12GZjt87",
        "outputId": "fe73ba76-11a6-4a43-a28e-acbb98caa2a1",
        "colab": {
          "base_uri": "https://localhost:8080/"
        }
      },
      "outputs": [
        {
          "output_type": "execute_result",
          "data": {
            "text/plain": [
              "array([2.99999999])"
            ]
          },
          "metadata": {},
          "execution_count": 6
        }
      ],
      "source": [
        "def f(x):\n",
        "    return (x-3)**2\n",
        "\n",
        "res = minimize(f, x0=2)\n",
        "res.x"
      ]
    },
    {
      "cell_type": "markdown",
      "metadata": {
        "id": "LJOpR0sBjt87"
      },
      "source": [
        "Minimize $f(x, y) = (x-1)^2 + (y-2.5)^2$ subject to\n",
        "\n",
        "$$x-2y+2 \\geq 0 $$\n",
        "$$-x-2y+6 \\geq 0$$\n",
        "$$-x + 2y + 2 \\geq 0$$\n",
        "$$x \\geq 0 $$\n",
        "$$y \\geq 0 $$\n",
        "\n",
        "* 2D function takes in vector $x$\n",
        "* Constraints must be specified as $g_i(x) \\geq 0$\n",
        "* Bounds specified as rectangular"
      ]
    },
    {
      "cell_type": "code",
      "execution_count": 7,
      "metadata": {
        "id": "mdKC_sNgjt87"
      },
      "outputs": [],
      "source": [
        "f = lambda x: (x[0] - 1)**2 + (x[1] - 2.5)**2\n",
        "cons = ({'type': 'ineq', 'fun': lambda x:  x[0] - 2 * x[1] + 2},\n",
        "        {'type': 'ineq', 'fun': lambda x: -x[0] - 2 * x[1] + 6},\n",
        "        {'type': 'ineq', 'fun': lambda x: -x[0] + 2 * x[1] + 2})\n",
        "bnds = ((0, None), (0, None))\n",
        "res = minimize(f, (2, 0), bounds=bnds, constraints=cons)"
      ]
    },
    {
      "cell_type": "code",
      "execution_count": null,
      "metadata": {
        "id": "4kyDvO7Tjt88",
        "outputId": "404e009a-26a8-4321-ee15-fa35aaeddbdb"
      },
      "outputs": [
        {
          "data": {
            "text/plain": [
              "array([1.4, 1.7])"
            ]
          },
          "execution_count": 5,
          "metadata": {},
          "output_type": "execute_result"
        }
      ],
      "source": [
        "res.x"
      ]
    },
    {
      "cell_type": "markdown",
      "metadata": {
        "id": "bPgRvA_Kjt88"
      },
      "source": [
        "Note use of different techniques for different problems."
      ]
    },
    {
      "cell_type": "code",
      "execution_count": 1,
      "metadata": {
        "id": "OAmYtXEHjt88"
      },
      "outputs": [],
      "source": [
        "#minimize?"
      ]
    },
    {
      "cell_type": "markdown",
      "metadata": {
        "id": "_iEi1MWXjt88"
      },
      "source": [
        "## Interpolation"
      ]
    },
    {
      "cell_type": "markdown",
      "metadata": {
        "id": "QVStcUFijt88"
      },
      "source": [
        "Suppose you have the following data (I generate it here, but perhaps you collect $x$ and $y$ by means of some experiment)"
      ]
    },
    {
      "cell_type": "code",
      "execution_count": 8,
      "metadata": {
        "id": "vrQb-yYfjt88",
        "outputId": "28c38667-abf3-440a-a0dc-2e85aeb76ddf",
        "colab": {
          "base_uri": "https://localhost:8080/",
          "height": 448
        }
      },
      "outputs": [
        {
          "output_type": "execute_result",
          "data": {
            "text/plain": [
              "<matplotlib.collections.PathCollection at 0x78b803444090>"
            ]
          },
          "metadata": {},
          "execution_count": 8
        },
        {
          "output_type": "display_data",
          "data": {
            "text/plain": [
              "<Figure size 640x480 with 1 Axes>"
            ],
            "image/png": "[encoded data removed]"
          },
          "metadata": {}
        }
      ],
      "source": [
        "x = np.linspace(0, 10, 10)\n",
        "y = x**2 * np.sin(x)\n",
        "plt.scatter(x,y)"
      ]
    },
    {
      "cell_type": "markdown",
      "metadata": {
        "id": "i_kt4sDSjt88"
      },
      "source": [
        "You want to know the values in between."
      ]
    },
    {
      "cell_type": "code",
      "execution_count": 2,
      "metadata": {
        "id": "-w2Y5I4djt88"
      },
      "outputs": [],
      "source": [
        "from scipy.interpolate import interp1d"
      ]
    },
    {
      "cell_type": "code",
      "execution_count": 9,
      "metadata": {
        "id": "D9sK4JO6jt88"
      },
      "outputs": [],
      "source": [
        "f = interp1d(x, y, kind='cubic')\n",
        "x_dense = np.linspace(0, 10, 100)\n",
        "y_dense = f(x_dense)"
      ]
    },
    {
      "cell_type": "code",
      "execution_count": 10,
      "metadata": {
        "id": "cLiSthDOjt88",
        "outputId": "463213ff-5f37-4f16-8080-c42da8ac32b7",
        "colab": {
          "base_uri": "https://localhost:8080/",
          "height": 448
        }
      },
      "outputs": [
        {
          "output_type": "execute_result",
          "data": {
            "text/plain": [
              "<matplotlib.collections.PathCollection at 0x78b7dcba7150>"
            ]
          },
          "metadata": {},
          "execution_count": 10
        },
        {
          "output_type": "display_data",
          "data": {
            "text/plain": [
              "<Figure size 640x480 with 1 Axes>"
            ],
            "image/png": "[encoded data removed]"
          },
          "metadata": {}
        }
      ],
      "source": [
        "plt.plot(x_dense, y_dense)\n",
        "plt.scatter(x, y)"
      ]
    },
    {
      "cell_type": "code",
      "source": [
        "f(5)"
      ],
      "metadata": {
        "id": "mlEbkPpXlCtX",
        "outputId": "41acca9f-8619-450f-e462-1f91c8a2ed3f",
        "colab": {
          "base_uri": "https://localhost:8080/"
        }
      },
      "execution_count": 13,
      "outputs": [
        {
          "output_type": "execute_result",
          "data": {
            "text/plain": [
              "array(-23.84636087)"
            ]
          },
          "metadata": {},
          "execution_count": 13
        }
      ]
    },
    {
      "cell_type": "markdown",
      "metadata": {
        "id": "CiUdJVfNjt88"
      },
      "source": [
        "## Curve Fitting"
      ]
    },
    {
      "cell_type": "markdown",
      "metadata": {
        "id": "J2Br67Uwjt88"
      },
      "source": [
        "Trivial Example"
      ]
    },
    {
      "cell_type": "code",
      "execution_count": 11,
      "metadata": {
        "id": "A_X_Yh6Zjt88"
      },
      "outputs": [],
      "source": [
        "x_data = np.linspace(0, 10, 10)\n",
        "y_data = 3*x_data**2 + 2"
      ]
    },
    {
      "cell_type": "code",
      "execution_count": 12,
      "metadata": {
        "id": "K4d8_UuKjt88",
        "outputId": "fc6431f2-b7d5-4fc8-bb0b-27075b8c2fe8",
        "colab": {
          "base_uri": "https://localhost:8080/",
          "height": 448
        }
      },
      "outputs": [
        {
          "output_type": "execute_result",
          "data": {
            "text/plain": [
              "<matplotlib.collections.PathCollection at 0x78b7dcf10850>"
            ]
          },
          "metadata": {},
          "execution_count": 12
        },
        {
          "output_type": "display_data",
          "data": {
            "text/plain": [
              "<Figure size 640x480 with 1 Axes>"
            ],
            "image/png": "[encoded data removed]"
          },
          "metadata": {}
        }
      ],
      "source": [
        "plt.scatter(x_data, y_data)"
      ]
    },
    {
      "cell_type": "markdown",
      "metadata": {
        "id": "aFFp0lsbjt89"
      },
      "source": [
        "Want to fit the data to the curve $y = ax^2 + b$. The main goal here is determine the values of $a$ and $b$"
      ]
    },
    {
      "cell_type": "code",
      "execution_count": 14,
      "metadata": {
        "id": "u6Oe-exCjt89",
        "outputId": "91042fc2-fb5b-4768-ccfc-445928680209",
        "colab": {
          "base_uri": "https://localhost:8080/"
        }
      },
      "outputs": [
        {
          "output_type": "execute_result",
          "data": {
            "text/plain": [
              "array([3., 2.])"
            ]
          },
          "metadata": {},
          "execution_count": 14
        }
      ],
      "source": [
        "from scipy.optimize import curve_fit\n",
        "\n",
        "def func(x, a, b):\n",
        "    return a*x**2 + b\n",
        "popt, pcov = curve_fit(func, x_data, y_data, p0=(1,1))\n",
        "popt"
      ]
    },
    {
      "cell_type": "markdown",
      "metadata": {
        "id": "vGlksDPgjt89"
      },
      "source": [
        "The equation for spring motion is $y(t) = A\\cos(\\omega t+\\phi)$. Want to find the natural frequency of oscillation $\\omega$ for the spring. You collect the data"
      ]
    },
    {
      "cell_type": "code",
      "execution_count": 15,
      "metadata": {
        "id": "MchuyKkRjt89"
      },
      "outputs": [],
      "source": [
        "t_data = np.array([ 0.   ,  0.34482759,  0.68965517,  1.03448276,  1.37931034,\n",
        "        1.72413793,  2.06896552,  2.4137931 ,  2.75862069,  3.10344828,\n",
        "        3.44827586,  3.79310345,  4.13793103,  4.48275862,  4.82758621,\n",
        "        5.17241379,  5.51724138,  5.86206897,  6.20689655,  6.55172414,\n",
        "        6.89655172,  7.24137931,  7.5862069 ,  7.93103448,  8.27586207,\n",
        "        8.62068966,  8.96551724,  9.31034483,  9.65517241, 10.        ])\n",
        "y_data = np.array([ 4.3303953 ,  1.61137995, -2.15418696, -3.90137249, -1.67259042,\n",
        "        2.16884383,  3.86635998,  1.85194506, -1.8489224 , -3.96560495,\n",
        "       -2.13385255,  1.59425817,  4.06145238,  1.89300594, -1.76870297,\n",
        "       -4.26791226, -2.46874133,  1.37019912,  4.24945607,  2.27038039,\n",
        "       -1.50299303, -3.46774049, -2.50845488,  1.20022052,  3.81633703,\n",
        "        2.91511556, -1.24569189, -3.72716214, -2.54549857,  0.87262548])"
      ]
    },
    {
      "cell_type": "code",
      "execution_count": 16,
      "metadata": {
        "id": "fpM7hifGjt89",
        "outputId": "47bc19f9-3fe4-4a7a-b08f-6d0e3c96756f",
        "colab": {
          "base_uri": "https://localhost:8080/",
          "height": 448
        }
      },
      "outputs": [
        {
          "output_type": "execute_result",
          "data": {
            "text/plain": [
              "[<matplotlib.lines.Line2D at 0x78b7dcbae290>]"
            ]
          },
          "metadata": {},
          "execution_count": 16
        },
        {
          "output_type": "display_data",
          "data": {
            "text/plain": [
              "<Figure size 640x480 with 1 Axes>"
            ],
            "image/png": "[encoded data removed]"
          },
          "metadata": {}
        }
      ],
      "source": [
        "plt.plot(t_data,y_data,'o--')"
      ]
    },
    {
      "cell_type": "markdown",
      "metadata": {
        "id": "dY13kWxTjt89"
      },
      "source": [
        "$\\omega = 2 \\pi f$, $f=1/T$, and $T \\approx 2$ seconds. Thus good initial guess is\n",
        "\n",
        "* $\\omega = 2 \\pi (1/2) = \\pi$\n",
        "* $A=4$\n",
        "* $\\phi = 0$"
      ]
    },
    {
      "cell_type": "code",
      "execution_count": 18,
      "metadata": {
        "id": "aJpwo9jUjt89",
        "outputId": "605dc64a-c996-4841-e4e9-fb289b57ee3f",
        "colab": {
          "base_uri": "https://localhost:8080/"
        }
      },
      "outputs": [
        {
          "output_type": "execute_result",
          "data": {
            "text/plain": [
              "array([3.94836219, 2.9989952 , 0.10411352])"
            ]
          },
          "metadata": {},
          "execution_count": 18
        }
      ],
      "source": [
        "from scipy.optimize import curve_fit\n",
        "\n",
        "def func(x, A, w, phi):\n",
        "    return A*np.cos(w*x+phi)\n",
        "\n",
        "popt, pcov = curve_fit(func, t_data, y_data, p0=(4, np.pi, 0))\n",
        "popt"
      ]
    },
    {
      "cell_type": "code",
      "execution_count": 19,
      "metadata": {
        "id": "zbsc0hOIjt89"
      },
      "outputs": [],
      "source": [
        "A, w, phi = popt"
      ]
    },
    {
      "cell_type": "code",
      "execution_count": 20,
      "metadata": {
        "id": "sr-G-kXcjt89"
      },
      "outputs": [],
      "source": [
        "t = np.linspace(0, 10, 100)\n",
        "y = func(t, A, w, phi)"
      ]
    },
    {
      "cell_type": "code",
      "execution_count": 21,
      "metadata": {
        "id": "Uqcc8OYyjt89",
        "outputId": "70a92193-3477-43e0-a901-93ddfe535cc4",
        "colab": {
          "base_uri": "https://localhost:8080/",
          "height": 448
        }
      },
      "outputs": [
        {
          "output_type": "execute_result",
          "data": {
            "text/plain": [
              "[<matplotlib.lines.Line2D at 0x78b7dc067650>]"
            ]
          },
          "metadata": {},
          "execution_count": 21
        },
        {
          "output_type": "display_data",
          "data": {
            "text/plain": [
              "<Figure size 640x480 with 1 Axes>"
            ],
            "image/png": "[encoded data removed]"
          },
          "metadata": {}
        }
      ],
      "source": [
        "plt.scatter(t_data,y_data)\n",
        "plt.plot(t,y)"
      ]
    },
    {
      "cell_type": "markdown",
      "metadata": {
        "id": "gGWHDy6Tjt89"
      },
      "source": [
        "The parameters"
      ]
    },
    {
      "cell_type": "code",
      "execution_count": 22,
      "metadata": {
        "id": "d5gtqfAmjt89",
        "outputId": "55d71c06-2adf-4533-d654-bc691a54a970",
        "colab": {
          "base_uri": "https://localhost:8080/"
        }
      },
      "outputs": [
        {
          "output_type": "execute_result",
          "data": {
            "text/plain": [
              "array([3.94836219, 2.9989952 , 0.10411352])"
            ]
          },
          "metadata": {},
          "execution_count": 22
        }
      ],
      "source": [
        "popt"
      ]
    },
    {
      "cell_type": "markdown",
      "metadata": {
        "id": "tYr1AcfQjt89"
      },
      "source": [
        "The estimated error on the parameters"
      ]
    },
    {
      "cell_type": "code",
      "execution_count": 23,
      "metadata": {
        "id": "RTB7QjoHjt89",
        "outputId": "3dd258ae-13c0-45f3-e906-639af49d5d07",
        "colab": {
          "base_uri": "https://localhost:8080/"
        }
      },
      "outputs": [
        {
          "output_type": "execute_result",
          "data": {
            "text/plain": [
              "array([0.05117448, 0.00430857, 0.02575702])"
            ]
          },
          "metadata": {},
          "execution_count": 23
        }
      ],
      "source": [
        "np.sqrt(np.diag(pcov))"
      ]
    },
    {
      "cell_type": "markdown",
      "metadata": {
        "id": "U3Nbc20zjt89"
      },
      "source": [
        "# Calculus"
      ]
    },
    {
      "cell_type": "markdown",
      "metadata": {
        "id": "PgknODujjt8-"
      },
      "source": [
        "## Differentiation"
      ]
    },
    {
      "cell_type": "code",
      "execution_count": 24,
      "metadata": {
        "id": "vWzIm2Z7jt8-"
      },
      "outputs": [],
      "source": [
        "from scipy.misc import derivative"
      ]
    },
    {
      "cell_type": "code",
      "execution_count": 25,
      "metadata": {
        "id": "ZzoJGmkFjt9C"
      },
      "outputs": [],
      "source": [
        "def f(x):\n",
        "    return x**2 * np.sin(2*x) *np.exp(-x)\n",
        "x = np.linspace(0, 1, 100)"
      ]
    },
    {
      "cell_type": "code",
      "execution_count": 26,
      "metadata": {
        "id": "OTZ6ZYFzjt9C",
        "outputId": "d98112ed-7ebe-4d9d-f2c9-50542ee5998d",
        "colab": {
          "base_uri": "https://localhost:8080/",
          "height": 521
        }
      },
      "outputs": [
        {
          "output_type": "stream",
          "name": "stderr",
          "text": [
            "<ipython-input-26-83c6ab4eb371>:2: DeprecationWarning: scipy.misc.derivative is deprecated in SciPy v1.10.0; and will be completely removed in SciPy v1.12.0. You may consider using findiff: https://github.com/maroba/findiff or numdifftools: https://github.com/pbrod/numdifftools\n",
            "  plt.plot(x, derivative(f, x, dx=1e-6))\n",
            "<ipython-input-26-83c6ab4eb371>:3: DeprecationWarning: scipy.misc.derivative is deprecated in SciPy v1.10.0; and will be completely removed in SciPy v1.12.0. You may consider using findiff: https://github.com/maroba/findiff or numdifftools: https://github.com/pbrod/numdifftools\n",
            "  plt.plot(x, derivative(f, x, dx=1e-6, n=2))\n"
          ]
        },
        {
          "output_type": "display_data",
          "data": {
            "text/plain": [
              "<Figure size 640x480 with 1 Axes>"
            ],
            "image/png": "[encoded data removed]"
          },
          "metadata": {}
        }
      ],
      "source": [
        "plt.plot(x, f(x))\n",
        "plt.plot(x, derivative(f, x, dx=1e-6))\n",
        "plt.plot(x, derivative(f, x, dx=1e-6, n=2))\n",
        "plt.grid()"
      ]
    },
    {
      "cell_type": "markdown",
      "metadata": {
        "id": "LJAhgthrjt9C"
      },
      "source": [
        "## Integration"
      ]
    },
    {
      "cell_type": "markdown",
      "metadata": {
        "id": "3h0Hi4fUjt9C"
      },
      "source": [
        "Single integrals"
      ]
    },
    {
      "cell_type": "markdown",
      "metadata": {
        "id": "jSUGbNfRjt9C"
      },
      "source": [
        "$$ \\int_0^{1} x^2 \\sin(2x) e^{-x} dx $$"
      ]
    },
    {
      "cell_type": "code",
      "execution_count": 27,
      "metadata": {
        "id": "ru_gaEkPjt9C"
      },
      "outputs": [],
      "source": [
        "from scipy.integrate import quad\n",
        "integrand = lambda x: x**2 * np.sin(2*x) * np.exp(-x)\n",
        "integral, integral_error = quad(integrand, 0, 1)"
      ]
    },
    {
      "cell_type": "code",
      "execution_count": 28,
      "metadata": {
        "id": "VMWtGlVCjt9C",
        "outputId": "b16f9c11-894f-4b7b-82b3-5f6468eebe11",
        "colab": {
          "base_uri": "https://localhost:8080/"
        }
      },
      "outputs": [
        {
          "output_type": "execute_result",
          "data": {
            "text/plain": [
              "0.14558175869954834"
            ]
          },
          "metadata": {},
          "execution_count": 28
        }
      ],
      "source": [
        "integral"
      ]
    },
    {
      "cell_type": "markdown",
      "metadata": {
        "id": "l-FizIoejt9C"
      },
      "source": [
        "Double integrals\n",
        "\n",
        "$$ \\int_{0}^{1} \\int_{-x}^{x^2} \\sin(x+y^2) dy dx $$"
      ]
    },
    {
      "cell_type": "code",
      "execution_count": 29,
      "metadata": {
        "id": "JjiBtG7sjt9C"
      },
      "outputs": [],
      "source": [
        "from scipy.integrate import dblquad\n",
        "integrand = lambda y, x: np.sin(x+y**2)\n",
        "lwr_y = lambda x: -x\n",
        "upr_y = lambda x: x**2\n",
        "integral, integral_error = dblquad(integrand, 0, 1, lwr_y, upr_y)"
      ]
    },
    {
      "cell_type": "code",
      "execution_count": 30,
      "metadata": {
        "id": "Y2_eI6dAjt9C",
        "outputId": "e8b718bf-a436-4410-da08-cf9b47d485f4",
        "colab": {
          "base_uri": "https://localhost:8080/"
        }
      },
      "outputs": [
        {
          "output_type": "execute_result",
          "data": {
            "text/plain": [
              "0.590090324408853"
            ]
          },
          "metadata": {},
          "execution_count": 30
        }
      ],
      "source": [
        "integral"
      ]
    },
    {
      "cell_type": "markdown",
      "metadata": {
        "id": "U3TJJHiBjt9C"
      },
      "source": [
        "## Differetial Equations"
      ]
    },
    {
      "cell_type": "markdown",
      "metadata": {
        "id": "-V0WBqXVjt9C"
      },
      "source": [
        "**First Order ODEs**\n",
        "\n",
        "Air friction while falling\n",
        "\n",
        "$$ v' - \\alpha v^2 + \\beta = 0 \\hspace{10mm} v(0) = 0$$"
      ]
    },
    {
      "cell_type": "code",
      "execution_count": 31,
      "metadata": {
        "id": "j5VSfARdjt9C"
      },
      "outputs": [],
      "source": [
        "from scipy.integrate import odeint"
      ]
    },
    {
      "cell_type": "markdown",
      "metadata": {
        "id": "4UxPR0Xjjt9C"
      },
      "source": [
        "All information about differential equation"
      ]
    },
    {
      "cell_type": "code",
      "execution_count": null,
      "metadata": {
        "id": "PZBG7Sltjt9C"
      },
      "outputs": [],
      "source": [
        "def dvdt(v, t):\n",
        "    return 3*v**2 - 5\n",
        "v0 = 0"
      ]
    },
    {
      "cell_type": "markdown",
      "metadata": {
        "id": "J42RQQ4Pjt9D"
      },
      "source": [
        "Solve differential equation"
      ]
    },
    {
      "cell_type": "code",
      "execution_count": null,
      "metadata": {
        "id": "SuUyxTfjjt9D"
      },
      "outputs": [],
      "source": [
        "t = np.linspace(0, 1, 100)\n",
        "sol = odeint(dvdt, v0, t)"
      ]
    },
    {
      "cell_type": "code",
      "execution_count": null,
      "metadata": {
        "id": "aEscLgy3jt9D"
      },
      "outputs": [],
      "source": [
        "v_sol = sol.T[0]"
      ]
    },
    {
      "cell_type": "markdown",
      "metadata": {
        "id": "5UjsIXCMjt9D"
      },
      "source": [
        "Plot"
      ]
    },
    {
      "cell_type": "code",
      "execution_count": null,
      "metadata": {
        "id": "NRPwuzOUjt9D",
        "outputId": "61eee51e-8db9-4183-ed56-262d67972f10"
      },
      "outputs": [
        {
          "data": {
            "text/plain": [
              "[<matplotlib.lines.Line2D at 0x7fac9384d7f0>]"
            ]
          },
          "execution_count": 35,
          "metadata": {},
          "output_type": "execute_result"
        },
        {
          "data": {
            "image/png": "[encoded data removed]",
            "text/plain": [
              "<Figure size 432x288 with 1 Axes>"
            ]
          },
          "metadata": {
            "needs_background": "light"
          },
          "output_type": "display_data"
        }
      ],
      "source": [
        "plt.plot(t, v_sol)"
      ]
    },
    {
      "cell_type": "markdown",
      "metadata": {
        "id": "PxKTcWIfjt9D"
      },
      "source": [
        "**Coupled first order ODEs**\n",
        "\n",
        "$$ y_1' = y_1 + y_2^2 + 3x \\hspace{10mm} y_1(0)=0$$\n",
        "$$ y_2' = 3y_1 + y_2^3 - \\cos(x) \\hspace{10mm} y_2(0)=0$$\n",
        "\n",
        "Letting $S=(y_1, y_2)$ we need to write a function that returns $dS/dx = (dy_1/dx, dy_2/dx)$. The function $dS/dx$ can take in $S=(y_1, y_2)$ and $x$"
      ]
    },
    {
      "cell_type": "code",
      "execution_count": null,
      "metadata": {
        "id": "DeSjWXmyjt9D"
      },
      "outputs": [],
      "source": [
        "def dSdx(S, x):\n",
        "    y1, y2 = S\n",
        "    return [y1 + y2**2  + 3*x,\n",
        "           3*y1 + y2**3 - np.cos(x)]\n",
        "y1_0 = 0\n",
        "y2_0 = 0\n",
        "S_0 = (y1_0, y2_0)"
      ]
    },
    {
      "cell_type": "code",
      "execution_count": null,
      "metadata": {
        "id": "T0WKh8YAjt9D"
      },
      "outputs": [],
      "source": [
        "x = np.linspace(0, 1, 100)\n",
        "sol = odeint(dSdx, S_0, x)"
      ]
    },
    {
      "cell_type": "code",
      "execution_count": null,
      "metadata": {
        "id": "4WOE-ermjt9D"
      },
      "outputs": [],
      "source": [
        "y1_sol = sol.T[0]\n",
        "y2_sol = sol.T[1]"
      ]
    },
    {
      "cell_type": "code",
      "execution_count": null,
      "metadata": {
        "id": "zAPPwJ4ujt9D",
        "outputId": "f661b6b5-553b-48a1-c759-dc61642e67ab"
      },
      "outputs": [
        {
          "data": {
            "text/plain": [
              "[<matplotlib.lines.Line2D at 0x7fac9387c4f0>]"
            ]
          },
          "execution_count": 39,
          "metadata": {},
          "output_type": "execute_result"
        },
        {
          "data": {
            "image/png": "[encoded data removed]",
            "text/plain": [
              "<Figure size 432x288 with 1 Axes>"
            ]
          },
          "metadata": {
            "needs_background": "light"
          },
          "output_type": "display_data"
        }
      ],
      "source": [
        "plt.plot(x, y1_sol)\n",
        "plt.plot(x, y2_sol)"
      ]
    },
    {
      "cell_type": "markdown",
      "metadata": {
        "id": "IkveKbTHjt9D"
      },
      "source": [
        "**Second Order ODEs**\n",
        "\n",
        "Equation for a pendulum\n",
        "\n",
        "$$\\theta'' - \\sin(\\theta) = 0$$\n",
        "\n",
        "Scipy can only solve coupled first order ODEs, but **any second order ODE can be turned into two coupled first order ODEs**. The same thing goes for higher order ODEs.\n",
        "\n",
        "Define $\\omega = d\\theta/dt$ so that one has the following coupled ODEs\n",
        "\n",
        "$$d \\omega / dt = \\sin(\\theta)$$\n",
        "$$d \\theta / dt = \\omega $$\n",
        "\n",
        "Let $S = (\\theta, \\omega)$"
      ]
    },
    {
      "cell_type": "code",
      "execution_count": null,
      "metadata": {
        "id": "Jyue6mNgjt9D"
      },
      "outputs": [],
      "source": [
        "def dSdt(S, t):\n",
        "    theta, omega = S\n",
        "    return [omega,\n",
        "           np.sin(theta)]\n",
        "theta0 = np.pi/4\n",
        "omega0 = 0\n",
        "S0 = (theta0, omega0)"
      ]
    },
    {
      "cell_type": "code",
      "execution_count": null,
      "metadata": {
        "id": "7Q-y9zsdjt9D"
      },
      "outputs": [],
      "source": [
        "t = np.linspace(0, 20, 100)\n",
        "sol = odeint(dSdt, S0, t)\n",
        "theta, omega = sol.T"
      ]
    },
    {
      "cell_type": "code",
      "execution_count": null,
      "metadata": {
        "id": "IBH39aQnjt9D",
        "outputId": "723617ca-cfe2-489a-d8e8-f42f734ee553"
      },
      "outputs": [
        {
          "data": {
            "image/png": "[encoded data removed]",
            "text/plain": [
              "<Figure size 432x288 with 1 Axes>"
            ]
          },
          "metadata": {
            "needs_background": "light"
          },
          "output_type": "display_data"
        }
      ],
      "source": [
        "plt.plot(t, theta)\n",
        "plt.show()"
      ]
    },
    {
      "cell_type": "markdown",
      "metadata": {
        "id": "xtfclQWHjt9D"
      },
      "source": [
        "**Example 1**: Newton's law of cooling is\n",
        "\n",
        "$$\\frac{dT}{dt} = -k(T-T_s(t)) $$\n",
        "\n",
        "where $T$ is the temperature of an object in the surroundings with temperature $T_s(t)$ (which may depend on time). Suppose $T$ represents the temperature of a shallow pool of water and $T_s(t)$ represents the temperature of outside. Find $T(t)$ given that you collected measurements of the outside:\n",
        "\n"
      ]
    },
    {
      "cell_type": "code",
      "execution_count": null,
      "metadata": {
        "id": "bhPScXxkjt9D"
      },
      "outputs": [],
      "source": [
        "t_m = np.array([ 0.,  1.04347826,  2.08695652,  3.13043478,  4.17391304,\n",
        "        5.2173913 ,  6.26086957,  7.30434783,  8.34782609,  9.39130435,\n",
        "       10.43478261, 11.47826087, 12.52173913, 13.56521739, 14.60869565,\n",
        "       15.65217391, 16.69565217, 17.73913043, 18.7826087 , 19.82608696,\n",
        "       20.86956522, 21.91304348, 22.95652174, 24.        ])\n",
        "\n",
        "temp_m = np.array([283.2322975, 284.6945461, 286.2259041, 287.8603625, 289.6440635,\n",
        "       291.6187583, 293.7939994, 296.1148895, 298.4395788, 300.5430675,\n",
        "       302.1566609, 303.0363609, 303.0363609, 302.1566609, 300.5430675,\n",
        "       298.4395788, 296.1148895, 293.7939994, 291.6187583, 289.6440635,\n",
        "       287.8603625, 286.2259041, 284.6945461, 283.2322975])"
      ]
    },
    {
      "cell_type": "code",
      "execution_count": null,
      "metadata": {
        "id": "1CZKi9rMjt9D",
        "outputId": "887700d7-1d4b-4980-d46e-6f74045b44ec"
      },
      "outputs": [
        {
          "data": {
            "text/plain": [
              "Text(0, 0.5, 'Temperature [K]')"
            ]
          },
          "execution_count": 48,
          "metadata": {},
          "output_type": "execute_result"
        },
        {
          "data": {
            "image/png": "[encoded data removed]",
            "text/plain": [
              "<Figure size 432x288 with 1 Axes>"
            ]
          },
          "metadata": {
            "needs_background": "light"
          },
          "output_type": "display_data"
        }
      ],
      "source": [
        "plt.scatter(t_m, temp_m)\n",
        "plt.xlabel('Time [hour]')\n",
        "plt.ylabel('Temperature [K]')"
      ]
    },
    {
      "cell_type": "code",
      "execution_count": null,
      "metadata": {
        "id": "FDIrbE-zjt9E"
      },
      "outputs": [],
      "source": [
        "Ts = interp1d(t_m, temp_m, kind='cubic')"
      ]
    },
    {
      "cell_type": "code",
      "execution_count": null,
      "metadata": {
        "id": "R903WGSEjt9E"
      },
      "outputs": [],
      "source": [
        "def dTdt(T, t):\n",
        "    return -0.5*(T-Ts(t))\n",
        "\n",
        "times = np.linspace(1, 23, 1000)\n",
        "T0 = 284.6945461"
      ]
    },
    {
      "cell_type": "code",
      "execution_count": null,
      "metadata": {
        "id": "QUaAIdrdjt9E"
      },
      "outputs": [],
      "source": [
        "sol = odeint(dTdt, T0, times).T[0]"
      ]
    },
    {
      "cell_type": "code",
      "execution_count": null,
      "metadata": {
        "id": "GGyxgoY9jt9E",
        "outputId": "50b3a993-650a-4423-8b55-4904a99c6a1f"
      },
      "outputs": [
        {
          "data": {
            "text/plain": [
              "<matplotlib.legend.Legend at 0x7fac931f7790>"
            ]
          },
          "execution_count": 53,
          "metadata": {},
          "output_type": "execute_result"
        },
        {
          "data": {
            "image/png": "[encoded data removed]",
            "text/plain": [
              "<Figure size 432x288 with 1 Axes>"
            ]
          },
          "metadata": {
            "needs_background": "light"
          },
          "output_type": "display_data"
        }
      ],
      "source": [
        "plt.plot(times, sol, label='Shallow Water temp')\n",
        "plt.scatter(t_m, temp_m, color='r', label='Outside Temp')\n",
        "plt.legend()"
      ]
    },
    {
      "cell_type": "markdown",
      "metadata": {
        "id": "L_ymSkXtjt9E"
      },
      "source": [
        "# Statistics"
      ]
    },
    {
      "cell_type": "markdown",
      "metadata": {
        "id": "ukkd58iMjt9E"
      },
      "source": [
        "**Example 1**: $\\beta$ distribution\n",
        "\n",
        "$$ f(x; a, b) = \\frac{\\Gamma(a+b)x^{a-1}(1-x)^{b-1}}{\\Gamma(a)\\Gamma(b)} \\hspace{20mm} 0 \\leq x \\leq 1$$"
      ]
    },
    {
      "cell_type": "code",
      "execution_count": null,
      "metadata": {
        "id": "z5JJozgDjt9E"
      },
      "outputs": [],
      "source": [
        "from scipy.stats import beta"
      ]
    },
    {
      "cell_type": "markdown",
      "metadata": {
        "id": "qlCnIWD0jt9E"
      },
      "source": [
        "Basic Statistics"
      ]
    },
    {
      "cell_type": "code",
      "execution_count": null,
      "metadata": {
        "id": "gug02F-ljt9E"
      },
      "outputs": [],
      "source": [
        "a, b = 2.5, 3.1\n",
        "mean, var, skew, kurt = beta.stats(a, b, moments='mvsk')"
      ]
    },
    {
      "cell_type": "markdown",
      "metadata": {
        "id": "mu8IAwYGjt9E"
      },
      "source": [
        "Probability Distribution Plotting:"
      ]
    },
    {
      "cell_type": "code",
      "execution_count": null,
      "metadata": {
        "id": "uYLt0CEHjt9E",
        "outputId": "9e87929d-5548-46be-b7d8-00e8655f75ee"
      },
      "outputs": [
        {
          "data": {
            "text/plain": [
              "[<matplotlib.lines.Line2D at 0x7fac92ab8eb0>]"
            ]
          },
          "execution_count": 73,
          "metadata": {},
          "output_type": "execute_result"
        },
        {
          "data": {
            "image/png": "[encoded data removed]",
            "text/plain": [
              "<Figure size 432x288 with 1 Axes>"
            ]
          },
          "metadata": {
            "needs_background": "light"
          },
          "output_type": "display_data"
        }
      ],
      "source": [
        "x = np.linspace(beta.ppf(0, a, b), beta.ppf(1, a, b), 100)\n",
        "plt.plot(x, beta.pdf(x, a, b))"
      ]
    },
    {
      "cell_type": "markdown",
      "metadata": {
        "id": "wT1NxoYmjt9E"
      },
      "source": [
        "Generating Random Variables:"
      ]
    },
    {
      "cell_type": "code",
      "execution_count": null,
      "metadata": {
        "id": "einj9R79jt9E",
        "outputId": "19309d5c-ef38-446e-d359-a660fdf607d1"
      },
      "outputs": [
        {
          "data": {
            "text/plain": [
              "array([0.36519221, 0.34611788, 0.69248154, 0.79559517, 0.35850385,\n",
              "       0.52820307, 0.59075396, 0.51043511, 0.48425268, 0.24519145])"
            ]
          },
          "execution_count": 74,
          "metadata": {},
          "output_type": "execute_result"
        }
      ],
      "source": [
        "r = beta.rvs(a, b, size=10)\n",
        "r"
      ]
    },
    {
      "cell_type": "markdown",
      "metadata": {
        "id": "y0ME2sNLjt9E"
      },
      "source": [
        "**Example 2**: Gaussian Distribution\n",
        "\n",
        "$$ f(x; \\mu, \\sigma) = \\frac{1}{\\sqrt{2 \\pi \\sigma^2}} \\text{exp}\\left(-\\frac{(x-\\mu)^2}{\\sigma^2} \\right) \\hspace{20mm} -\\infty < x \\leq \\infty $$"
      ]
    },
    {
      "cell_type": "code",
      "execution_count": null,
      "metadata": {
        "id": "1i4maTzYjt9E"
      },
      "outputs": [],
      "source": [
        "from scipy.stats import norm"
      ]
    },
    {
      "cell_type": "code",
      "execution_count": null,
      "metadata": {
        "id": "33Eyas-Hjt9E"
      },
      "outputs": [],
      "source": [
        "mu = 1\n",
        "sigma = 2\n",
        "mean, var = norm.stats(loc=mu, scale=sigma, moments='mv')"
      ]
    },
    {
      "cell_type": "code",
      "execution_count": null,
      "metadata": {
        "id": "WEhYIsc7jt9E",
        "outputId": "6834217c-b9bf-403f-be83-3073af6f0916"
      },
      "outputs": [
        {
          "data": {
            "text/plain": [
              "[<matplotlib.lines.Line2D at 0x7fac934ae8e0>]"
            ]
          },
          "execution_count": 77,
          "metadata": {},
          "output_type": "execute_result"
        },
        {
          "data": {
            "image/png": "[encoded data removed]",
            "text/plain": [
              "<Figure size 432x288 with 1 Axes>"
            ]
          },
          "metadata": {
            "needs_background": "light"
          },
          "output_type": "display_data"
        }
      ],
      "source": [
        "x = np.linspace(norm.ppf(0.01, mu, sigma), norm.ppf(0.99, mu, sigma), 100)\n",
        "plt.plot(x, norm.pdf(x, mu, sigma))"
      ]
    },
    {
      "cell_type": "markdown",
      "metadata": {
        "id": "uI21s_KDjt9E"
      },
      "source": [
        "**Example 3**: Multinomial Distribution\n",
        "\n",
        "$$ f(x_1, x_2, ..., x_k; p_1, p_2, ... p_k, n) = \\frac{n!}{x_1! ... x_k!}p_1^{x_1}p_2^{x_2}...p_k^{x_k}$$"
      ]
    },
    {
      "cell_type": "markdown",
      "metadata": {
        "id": "I93BVhaEjt9E"
      },
      "source": [
        "Rolling a die"
      ]
    },
    {
      "cell_type": "code",
      "execution_count": null,
      "metadata": {
        "id": "YNwED4bajt9F",
        "outputId": "ef715447-bad6-4ccf-9a99-80ef72931b47"
      },
      "outputs": [
        {
          "data": {
            "text/plain": [
              "2.143347050754453e-05"
            ]
          },
          "execution_count": 78,
          "metadata": {},
          "output_type": "execute_result"
        }
      ],
      "source": [
        "from scipy.stats import multinomial\n",
        "\n",
        "p = np.ones(6)/6\n",
        "multinomial.pmf([6,0,0,0,0,0], n=6, p=p)"
      ]
    },
    {
      "cell_type": "code",
      "execution_count": null,
      "metadata": {
        "id": "IX0LNkCejt9F",
        "outputId": "2e2371cf-964a-48fe-8b74-d149d078472e"
      },
      "outputs": [
        {
          "data": {
            "text/plain": [
              "array([[13, 28,  9, 20, 18, 12],\n",
              "       [19, 17, 13, 22, 14, 15],\n",
              "       [16, 13, 18, 19, 21, 13],\n",
              "       [18, 11, 19, 19, 11, 22],\n",
              "       [14, 14, 19, 16, 22, 15]])"
            ]
          },
          "execution_count": 79,
          "metadata": {},
          "output_type": "execute_result"
        }
      ],
      "source": [
        "multinomial.rvs(n=100, p=p, size=5)"
      ]
    },
    {
      "cell_type": "code",
      "execution_count": null,
      "metadata": {
        "id": "2uMXERyojt9F"
      },
      "outputs": [],
      "source": [
        "import numpy as np\n",
        "import matplotlib.pyplot as plt\n",
        "import pandas as pd\n",
        "from scipy.optimize import curve_fit"
      ]
    },
    {
      "cell_type": "markdown",
      "metadata": {
        "id": "5cTwDZzWjt9F"
      },
      "source": [
        "# The Goal of Curve Fitting"
      ]
    },
    {
      "cell_type": "markdown",
      "metadata": {
        "id": "mJKsu5Scjt9F"
      },
      "source": [
        "Purpose of interpolation\n",
        "\n",
        "Given some $x_{\\text{data}}=[...]$ and $y_{\\text{data}}=[...]$ and a model function $f$ that depends on unknown parameters $\\beta$ the goal is to find the optimal set of parameters $\\beta$ such that the function $y=f(x,\\beta)$ *best resembles* the data.\n",
        "\n",
        "* One way of doing this is to minimize $\\sum_i (f(x_i,\\beta) - y_i)^2$ by adjusting the parameters in $\\beta$. Here $x_i$ and $y_i$ are the ith data point. This is called the method of least squares\n",
        "\n",
        "* If the $y_i$ data points have corresponding errors on them, then minimizing $\\sum_i (f(x_i,\\beta) - y_i)^2/\\sigma_i^2$ gives the so called **maximum-likelihood** estimate for $\\beta$. Given the data $x_i$ and $y_i$, the the value of $\\beta$ obtained through this method is the most likely configuration."
      ]
    },
    {
      "cell_type": "markdown",
      "metadata": {
        "id": "vW2dVZerjt9F"
      },
      "source": [
        "Lets look at some sample data"
      ]
    },
    {
      "cell_type": "code",
      "execution_count": null,
      "metadata": {
        "id": "OPw4JDBAjt9F"
      },
      "outputs": [],
      "source": [
        "x_data = np.array([0.        , 0.15789474, 0.31578947, 0.47368421, 0.63157895,\n",
        "       0.78947368, 0.94736842, 1.10526316, 1.26315789, 1.42105263,\n",
        "       1.57894737, 1.73684211, 1.89473684, 2.05263158, 2.21052632,\n",
        "       2.36842105, 2.52631579, 2.68421053, 2.84210526, 3.        ])\n",
        "y_data = np.array([  2.95258285,   2.49719803,  -2.1984975 ,  -4.88744346,\n",
        "        -7.41326345,  -8.44574157, -10.01878504, -13.83743553,\n",
        "       -12.91548145, -15.41149046, -14.93516299, -13.42514157,\n",
        "       -14.12110495, -17.6412464 , -16.1275509 , -16.11533771,\n",
        "       -15.66076021, -13.48938865, -11.33918701, -11.70467566])"
      ]
    },
    {
      "cell_type": "code",
      "execution_count": null,
      "metadata": {
        "id": "V8bktKVfjt9F",
        "outputId": "a39a0db5-e615-4b40-8bb7-c95ac99c39bd"
      },
      "outputs": [
        {
          "data": {
            "image/png": "[encoded data removed]",
            "text/plain": [
              "<Figure size 432x288 with 1 Axes>"
            ]
          },
          "metadata": {},
          "output_type": "display_data"
        }
      ],
      "source": [
        "plt.scatter(x_data,y_data)\n",
        "plt.show()"
      ]
    },
    {
      "cell_type": "markdown",
      "metadata": {
        "id": "0kTgKMd6jt9F"
      },
      "source": [
        "Here is a model where $\\beta = (a,b,c)$ and\n",
        "\n",
        "$$f(x, \\beta) = f(x, a, b, c) = a(x-b)^2 + c$$\n",
        "\n",
        "We want to find the optimal values of $a$, $b$, and $c$ that fit the data above"
      ]
    },
    {
      "cell_type": "markdown",
      "metadata": {
        "id": "IGStcOnxjt9F"
      },
      "source": [
        "This requires two steps\n",
        "\n",
        "1. Define model function\n",
        "2. Use scipy's `curve_fit` function. This requires giving initial guesses for $\\beta$, which one needs to obtain carefuly for complicated models, or else the function might not work."
      ]
    },
    {
      "cell_type": "code",
      "execution_count": null,
      "metadata": {
        "id": "I5JpcNyjjt9F"
      },
      "outputs": [],
      "source": [
        "def model_f(x, a, b, c):\n",
        "    return a*(x-b)**2 + c"
      ]
    },
    {
      "cell_type": "code",
      "execution_count": null,
      "metadata": {
        "id": "Fbm_5O6zjt9F"
      },
      "outputs": [],
      "source": [
        "popt, pcov = curve_fit(model_f, x_data, y_data, p0=[3,2,-16])"
      ]
    },
    {
      "cell_type": "markdown",
      "metadata": {
        "id": "nsfuv2f9jt9F"
      },
      "source": [
        "Two things are returned here:\n",
        "\n",
        "1. `popt`, which gives the optimal parameters for the `model_f` given the data"
      ]
    },
    {
      "cell_type": "code",
      "execution_count": null,
      "metadata": {
        "id": "6ey62N7ijt9F",
        "outputId": "03c26d68-aba5-4c36-8a22-10dbf7104509"
      },
      "outputs": [
        {
          "data": {
            "text/plain": [
              "array([  4.92207991,   2.00492121, -16.04690266])"
            ]
          },
          "metadata": {},
          "output_type": "display_data"
        }
      ],
      "source": [
        "popt"
      ]
    },
    {
      "cell_type": "markdown",
      "metadata": {
        "id": "mxLCTMDUjt9F"
      },
      "source": [
        "2. `pcov`: the covariance matrix, which gives an estimate of the \"error\" of the parameters (based on how sensitive the \"goodness-of-fit\" is to changing them) and the relation the parameters have to eachother (are two seperate parameters really needed?)"
      ]
    },
    {
      "cell_type": "code",
      "execution_count": null,
      "metadata": {
        "id": "t-JJkxi8jt9F",
        "outputId": "c5be3e42-3e0a-48bd-99e8-d7611137d9e4"
      },
      "outputs": [
        {
          "data": {
            "text/plain": [
              "array([[ 0.12827822, -0.01315915, -0.07363194],\n",
              "       [-0.01315915,  0.00222114,  0.00322289],\n",
              "       [-0.07363194,  0.00322289,  0.13377697]])"
            ]
          },
          "metadata": {},
          "output_type": "display_data"
        }
      ],
      "source": [
        "pcov"
      ]
    },
    {
      "cell_type": "markdown",
      "metadata": {
        "id": "NxSQzP0yjt9F"
      },
      "source": [
        "Lets plot the function with the optimal parameters next to the data"
      ]
    },
    {
      "cell_type": "code",
      "execution_count": null,
      "metadata": {
        "id": "Z4AsdLAyjt9F"
      },
      "outputs": [],
      "source": [
        "a_opt, b_opt, c_opt = popt\n",
        "x_model = np.linspace(min(x_data), max(x_data), 100)\n",
        "y_model = model_f(x_model, a_opt, b_opt, c_opt)"
      ]
    },
    {
      "cell_type": "markdown",
      "metadata": {
        "id": "13kr_4gAjt9F"
      },
      "source": [
        "Plot"
      ]
    },
    {
      "cell_type": "code",
      "execution_count": null,
      "metadata": {
        "id": "JuB6kTR9jt9G",
        "outputId": "2e757f7a-c18c-4a45-b8ea-2e0896f46db4"
      },
      "outputs": [
        {
          "data": {
            "image/png": "[encoded data removed]",
            "text/plain": [
              "<Figure size 432x288 with 1 Axes>"
            ]
          },
          "metadata": {},
          "output_type": "display_data"
        }
      ],
      "source": [
        "plt.scatter(x_data,y_data)\n",
        "plt.plot(x_model,y_model, color='r')\n",
        "plt.show()"
      ]
    },
    {
      "cell_type": "markdown",
      "metadata": {
        "id": "oFn9Q5sTjt9G"
      },
      "source": [
        "`pcov` is difficult to interpret, but we can do so as follows.\n",
        "\n",
        "* the \"error\" of a parameter in the model is related to how sensitive the model is to that parameter. Does changing the parameter slightly give a better fit? (i.e. minimize $\\sum_i (f(x_i,\\beta) - y_i)^2$)\n",
        "\n",
        "Lets look at an example below"
      ]
    },
    {
      "cell_type": "code",
      "execution_count": null,
      "metadata": {
        "id": "Qp7reB18jt9G"
      },
      "outputs": [],
      "source": [
        "def fit_f(x, a, b, c, d):\n",
        "    return a*(x-b)**2 + c + d*0.0001*np.cos(x)"
      ]
    },
    {
      "cell_type": "code",
      "execution_count": null,
      "metadata": {
        "id": "ryoF6Nknjt9G"
      },
      "outputs": [],
      "source": [
        "popt, pcov = curve_fit(fit_f, x_data, y_data, p0=[1,2,-16,1])"
      ]
    },
    {
      "cell_type": "markdown",
      "metadata": {
        "id": "yKe2Krfujt9G"
      },
      "source": [
        "Lets look at a color plot of the `pcov` matrix:"
      ]
    },
    {
      "cell_type": "code",
      "execution_count": null,
      "metadata": {
        "id": "HRUx192Qjt9G",
        "outputId": "76a02502-c760-483f-dba0-69a2df2c7c99"
      },
      "outputs": [
        {
          "data": {
            "text/plain": [
              "array([[ 1.45024157e-01, -4.03732292e-02,  4.08921392e-02,\n",
              "         3.05314578e+03],\n",
              "       [-4.03732292e-02,  7.20536914e-02, -3.07488304e-01,\n",
              "        -8.46750721e+03],\n",
              "       [ 4.08921392e-02, -3.07488304e-01,  1.52776217e+00,\n",
              "         3.78842284e+04],\n",
              "       [ 3.05314578e+03, -8.46750721e+03,  3.78842284e+04,\n",
              "         1.03326868e+09]])"
            ]
          },
          "metadata": {},
          "output_type": "display_data"
        }
      ],
      "source": [
        "pcov"
      ]
    },
    {
      "cell_type": "code",
      "execution_count": null,
      "metadata": {
        "id": "6_1zZvk9jt9G",
        "outputId": "aad2b385-cc71-458c-c0fb-81253fa890ca"
      },
      "outputs": [
        {
          "data": {
            "image/png": "[encoded data removed]",
            "text/plain": [
              "<Figure size 432x288 with 2 Axes>"
            ]
          },
          "metadata": {},
          "output_type": "display_data"
        }
      ],
      "source": [
        "plt.imshow(np.log(np.abs(pcov)))\n",
        "plt.colorbar()\n",
        "plt.show()"
      ]
    }
  ],
  "metadata": {
    "kernelspec": {
      "display_name": "Python 3",
      "language": "python",
      "name": "python3"
    },
    "language_info": {
      "codemirror_mode": {
        "name": "ipython",
        "version": 3
      },
      "file_extension": ".py",
      "mimetype": "text/x-python",
      "name": "python",
      "nbconvert_exporter": "python",
      "pygments_lexer": "ipython3",
      "version": "3.8.8"
    },
    "colab": {
      "provenance": []
    }
  },
  "nbformat": 4,
  "nbformat_minor": 0
}