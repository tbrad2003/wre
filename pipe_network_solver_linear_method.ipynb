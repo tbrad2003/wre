{
  "nbformat": 4,
  "nbformat_minor": 0,
  "metadata": {
    "colab": {
      "name": "lab 10.ipynb",
      "provenance": []
    },
    "kernelspec": {
      "name": "python3",
      "display_name": "Python 3"
    },
    "language_info": {
      "name": "python"
    }
  },
  "cells": [
    {
      "cell_type": "code",
      "execution_count": null,
      "metadata": {
        "id": "k12S1paUw0mp"
      },
      "outputs": [],
      "source": [
        "import numpy as np\n",
        "u = 0.000003281     #kinematic viscocity of water\n",
        "ks = 0.00085306     #ft"
      ]
    },
    {
      "cell_type": "code",
      "source": [
        "def calc_k(D,Q,L):\n",
        "  area = np.pi*(D/2)**2\n",
        "  V = Q/area\n",
        "  Re = V*D / u\n",
        "  f = (1/( -1.8*np.log10(( (ks/D) / 3.7)**1.11 + 6.9/Re ) ))**2\n",
        "  k = (f*L) / (2*D*32.2*area**2)\n",
        "  return k"
      ],
      "metadata": {
        "id": "s6o4tZkw0zB6"
      },
      "execution_count": null,
      "outputs": []
    },
    {
      "cell_type": "code",
      "source": [
        "Q_r = np.array([[4],[5],[-6],[-1],[3],[-6],[-1]])                         #cfs\n",
        "L = np.array([[5000],[5000],[4000],[4000],[4000],[5000],[5000]])          #ft\n",
        "D = np.array([[24/12],[12/12],[18/12],[18/12],[18/12],[18/12],[18/12]])   #ft\n",
        "B = np.array([[10],[0],[2],[0],[-4],[0],[0]])"
      ],
      "metadata": {
        "id": "mW_wh9LQxPur"
      },
      "execution_count": null,
      "outputs": []
    },
    {
      "cell_type": "code",
      "source": [
        "i=0\n",
        "while True:\n",
        "\n",
        "  if i == 0:\n",
        "    k = calc_k(D,Q_r,L)\n",
        "  else:\n",
        "    k = calc_k(D,Q_r_plus_1,L)\n",
        "\n",
        "  A = np.array([ [ 1, 0, 1, 0, 0, 0, 0]\n",
        "                ,[ 1,-1, 0, 1, 0, 0, 0]\n",
        "                ,[ 0, 1, 0, 0,-1, 0, 0]\n",
        "                ,[ 0, 0, 1, 0, 0,-1, 0]\n",
        "                ,[ 0, 0, 0, 1, 0,-1, 1]\n",
        "                ,[ k[0,0], 0, -k[2,0], -k[3,0], 0, -k[5,0], 0]\n",
        "                ,[ 0, k[1,0], 0, k[3,0], k[4,0], 0, -k[6,0]]])\n",
        "\n",
        "  Q_r_plus_1 = np.linalg.inv(A)@B\n",
        "\n",
        "  i+=1\n",
        "\n",
        "  if abs(np.sum(Q_r_plus_1 - Q_r)) < 0.00001:\n",
        "      print(Q_r_plus_1)\n",
        "      print(i,'iterations')\n",
        "      break\n",
        "\n",
        "  Q_r = Q_r_plus_1"
      ],
      "metadata": {
        "colab": {
          "base_uri": "https://localhost:8080/"
        },
        "id": "HuQ-QWfs-bDa",
        "outputId": "c61cf6e6-1f58-4212-aa0a-a6e4329314eb"
      },
      "execution_count": null,
      "outputs": [
        {
          "output_type": "stream",
          "name": "stdout",
          "text": [
            "[[ 6.7754898 ]\n",
            " [ 1.15177899]\n",
            " [ 3.2245102 ]\n",
            " [-5.62371081]\n",
            " [-0.84822101]\n",
            " [ 3.2245102 ]\n",
            " [ 4.84822101]]\n",
            "4 iterations\n"
          ]
        }
      ]
    },
    {
      "cell_type": "code",
      "source": [
        ""
      ],
      "metadata": {
        "id": "j7Yu4-a3JPVW"
      },
      "execution_count": null,
      "outputs": []
    }
  ]
}